{
 "cells": [
  {
   "cell_type": "code",
   "execution_count": 17,
   "id": "9a00c85b",
   "metadata": {},
   "outputs": [],
   "source": [
    "from selenium import webdriver\n",
    "from selenium.webdriver.common.by import By\n",
    "from selenium.webdriver.support.ui import WebDriverWait\n",
    "from selenium.webdriver.support import expected_conditions as EC\n",
    "import chromedriver_autoinstaller\n",
    "from time import sleep\n",
    "import os"
   ]
  },
  {
   "cell_type": "code",
   "execution_count": 18,
   "id": "2d321fec",
   "metadata": {},
   "outputs": [],
   "source": [
    "# Wait for any element to get loaded\n",
    "# BY TAG\n",
    "def wfe_by_tag(driver, el_tag):\n",
    "    try:\n",
    "        element = WebDriverWait(driver, 10).until(\n",
    "            EC.presence_of_element_located((By.TAG_NAME, el_tag))\n",
    "        )\n",
    "        return element\n",
    "    except Exception as e:\n",
    "        return \"element not found\"\n",
    "\n",
    "\n",
    "# BY NAME\n",
    "def wfe_by_name(driver, el_name):\n",
    "    try:\n",
    "        element = WebDriverWait(driver, 10).until(\n",
    "            EC.presence_of_element_located((By.NAME, el_name))\n",
    "        )\n",
    "        return element\n",
    "    except Exception as e:\n",
    "        return \"element not found\"\n",
    "\n",
    "\n",
    "# BY ID\n",
    "def wfe_by_id(driver, el_id):\n",
    "    try:\n",
    "        element = WebDriverWait(driver, 10).until(\n",
    "            EC.presence_of_element_located((By.ID, el_id))\n",
    "        )\n",
    "        return element\n",
    "    except Exception as e:\n",
    "        return \"element not found\"\n",
    "\n",
    "\n",
    "# BY XPATH\n",
    "def wfe_by_xpath(driver, el_xpath):\n",
    "    try:\n",
    "        element = WebDriverWait(driver, 10).until(\n",
    "            EC.presence_of_element_located((By.XPATH, el_xpath))\n",
    "        )\n",
    "        return element\n",
    "    except Exception as e:\n",
    "        return \"element not found\"\n",
    "\n",
    "\n",
    "# BY CLASS\n",
    "def wfe_by_class(driver, el_class):\n",
    "    try:\n",
    "        element = WebDriverWait(driver, 10).until(\n",
    "            EC.presence_of_element_located((By.CLASS_NAME, el_class))\n",
    "        )\n",
    "        return element\n",
    "    except Exception as e:\n",
    "        return \"element not found\"\n",
    "\n",
    "\n",
    "# BY LINK TEXT\n",
    "def wfe_by_link_text(driver, el_link_text):\n",
    "    try:\n",
    "        element = WebDriverWait(driver, 10).until(\n",
    "            EC.presence_of_element_located((By.LINK_TEXT, el_link_text))\n",
    "        )\n",
    "        return element\n",
    "    except Exception as e:\n",
    "        return \"element not found\""
   ]
  },
  {
   "cell_type": "code",
   "execution_count": 19,
   "id": "5d9ccdcb",
   "metadata": {},
   "outputs": [],
   "source": [
    "chromedriver_autoinstaller.install()\n",
    "driver = webdriver.Chrome()\n",
    "# driver.maximize_window()"
   ]
  },
  {
   "cell_type": "markdown",
   "id": "7a9c024d",
   "metadata": {},
   "source": [
    "# Constants"
   ]
  },
  {
   "cell_type": "code",
   "execution_count": 32,
   "id": "3256e782",
   "metadata": {},
   "outputs": [],
   "source": [
    "base_url = \"https://www.esheba.cnsbd.com\"\n",
    "login_url = \"https://www.esheba.cnsbd.com/#/login\"\n",
    "\n",
    "accounts = {\n",
    "    \"Shovon1\": {\n",
    "        \"Email\": \"mahmudur.rahman99@gmail.com\",\n",
    "        \"Password\": \"n99999999\"\n",
    "    },\n",
    "    \"Shovon2\": {\n",
    "        \"Email\": \"mahmudur.rahman99@outlook.com\",\n",
    "        \"Password\": \"n99999999\"\n",
    "    },\n",
    "    \"Zeba\": {\n",
    "        \"Email\": \"zebapu@gmail.com\",\n",
    "        \"Password\": \"25zeba25\"\n",
    "    },\n",
    "    \"Royal\": {\n",
    "        \"Email\": \"01626259494\",\n",
    "        \"Password\": \"paracetamol\"\n",
    "    },\n",
    "    \"Sheuly\": {\n",
    "        \"Email\": \"sheuly788@gmail.com\",\n",
    "        \"Password\": \"25zeba25\"\n",
    "    },\n",
    "    \"Taime\": {\n",
    "        \"Email\": \"taimebhuiyan8@gmail.com\",\n",
    "        \"Password\": \"506237\"\n",
    "    },\n",
    "}\n",
    "\n",
    "selected_account = accounts['Shovon1']\n",
    "\n",
    "email = selected_account[\"Email\"]\n",
    "password = selected_account[\"Password\"]\n",
    "\n",
    "station_from = 'Dhaka'\n",
    "station_to = 'Chittagong'\n",
    "class_of_seat = 's_chair'\n",
    "number_of_adults = '4'\n",
    "\n",
    "train_serial = '4'"
   ]
  },
  {
   "cell_type": "markdown",
   "id": "4d063d1a",
   "metadata": {},
   "source": [
    "# Login"
   ]
  },
  {
   "cell_type": "code",
   "execution_count": 21,
   "id": "991e5a1e",
   "metadata": {},
   "outputs": [],
   "source": [
    "driver.get(login_url)\n",
    "email_el = wfe_by_id(driver, 'email')\n",
    "email_el.clear()\n",
    "email_el.send_keys(email)\n",
    "pass_el = wfe_by_id(driver, 'password')\n",
    "pass_el.clear()\n",
    "pass_el.send_keys(password)\n",
    "pass_el.submit()\n",
    "sleep(1)"
   ]
  },
  {
   "cell_type": "markdown",
   "id": "9dc8816e",
   "metadata": {},
   "source": [
    "# Fillup data"
   ]
  },
  {
   "cell_type": "code",
   "execution_count": 22,
   "id": "6e259ef1",
   "metadata": {},
   "outputs": [],
   "source": [
    "# From station\n",
    "wfe_by_xpath(driver, '//input[@placeholder=\"From\"]')\n",
    "from_el = driver.find_element(By.XPATH, '//input[@placeholder=\"From\"]')\n",
    "from_el.click()\n",
    "from_el.find_element(By.XPATH, '//input[@type=\"search\"]').send_keys(station_from)\n",
    "sleep(0.5)\n",
    "driver.find_element(By.NAME, 'selectedFromStation').find_element(By.TAG_NAME, 'li').click()\n",
    "sleep(0.5)"
   ]
  },
  {
   "cell_type": "code",
   "execution_count": 23,
   "id": "6bf421b2",
   "metadata": {},
   "outputs": [],
   "source": [
    "# To station\n",
    "wfe_by_xpath(driver, '//input[@placeholder=\"To\"]')\n",
    "to_el = driver.find_element(By.XPATH, '//input[@placeholder=\"To\"]')\n",
    "to_el.click()\n",
    "to_el.send_keys(station_to)\n",
    "sleep(0.5)\n",
    "driver.find_element(By.NAME, 'selectedToStation').find_element(By.TAG_NAME, 'li').click()\n",
    "sleep(0.5)"
   ]
  },
  {
   "cell_type": "code",
   "execution_count": 24,
   "id": "c64177cb",
   "metadata": {},
   "outputs": [],
   "source": [
    "# Select date\n",
    "date_el = driver.find_element(By.ID, 'date')\n",
    "date_el.click()\n",
    "date_el.find_elements(By.XPATH, '//span[@class=\"cell day\"]')[-1].click()"
   ]
  },
  {
   "cell_type": "code",
   "execution_count": 25,
   "id": "07bdcd43",
   "metadata": {},
   "outputs": [],
   "source": [
    "# Select class\n",
    "class_el = driver.find_element(By.NAME, 'selectedClass')\n",
    "class_el.click()\n",
    "class_el.find_element(By.TAG_NAME, 'input').send_keys(class_of_seat)\n",
    "class_el.find_element(By.TAG_NAME, 'li').click()"
   ]
  },
  {
   "cell_type": "code",
   "execution_count": 26,
   "id": "219818d7",
   "metadata": {},
   "outputs": [],
   "source": [
    "# Select number of adult passenger(s)\n",
    "adult_el = driver.find_element(By.NAME, 'adult')\n",
    "adult_el.click()\n",
    "adult_el.find_element(By.XPATH, f'//option[@value=\"{number_of_adults}\"]').click()"
   ]
  },
  {
   "cell_type": "code",
   "execution_count": 27,
   "id": "a2e5e6ae",
   "metadata": {},
   "outputs": [],
   "source": [
    "# Submit\n",
    "driver.find_element(By.XPATH, '//button[@type=\"submit\"]').click()"
   ]
  },
  {
   "cell_type": "markdown",
   "id": "ca37bd5b",
   "metadata": {},
   "source": [
    "# Select train"
   ]
  },
  {
   "cell_type": "code",
   "execution_count": 29,
   "id": "c4ffbd46",
   "metadata": {},
   "outputs": [],
   "source": [
    "# Select train\n",
    "# train_serial = input('Enter the serial of the train button: ')\n",
    "sleep(1)\n",
    "train = driver.find_elements(By.XPATH, '//select[@class=\"form-control form-control-sm rounded-0 border-0 text-muted\"]')[0]\n",
    "train.click()\n",
    "train.find_elements(By.TAG_NAME, 'option')[int(train_serial)].click()"
   ]
  },
  {
   "cell_type": "code",
   "execution_count": 30,
   "id": "cc084e95",
   "metadata": {},
   "outputs": [],
   "source": [
    "wfe_by_xpath(driver, '//button[@class=\"btn btn-warning text-white  rounded-0 pl-4 pr-4\"]').click()\n",
    "wfe_by_link_text(driver, 'Availability').click()\n",
    "wfe_by_tag(wfe_by_class(driver, 'table-success'), 'button').click()"
   ]
  },
  {
   "cell_type": "code",
   "execution_count": 31,
   "id": "61b079ed",
   "metadata": {},
   "outputs": [],
   "source": [
    "driver.quit()"
   ]
  },
  {
   "cell_type": "code",
   "execution_count": null,
   "id": "d86d5e4e",
   "metadata": {},
   "outputs": [],
   "source": []
  }
 ],
 "metadata": {
  "kernelspec": {
   "display_name": "Python 3 (ipykernel)",
   "language": "python",
   "name": "python3"
  },
  "language_info": {
   "codemirror_mode": {
    "name": "ipython",
    "version": 3
   },
   "file_extension": ".py",
   "mimetype": "text/x-python",
   "name": "python",
   "nbconvert_exporter": "python",
   "pygments_lexer": "ipython3",
   "version": "3.8.10"
  }
 },
 "nbformat": 4,
 "nbformat_minor": 5
}
